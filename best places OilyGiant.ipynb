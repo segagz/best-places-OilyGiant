{
 "cells": [
  {
   "cell_type": "markdown",
   "metadata": {},
   "source": [
    "## Introducción\n",
    "Con este proyecto mi objetivo es desarrollar un modelo que pueda analizar los datos sobre muestras de crudo de tres regiones junto con los parámetros de cada pozo petrolero de la región y con eso predecir la región con el mayor margen de beneficio.\n",
    "\n",
    "Observaré los datos de las regiones y crearé un modelo a base de los datos de las regiones y los pozos para predecir las potenciales regiones con menor riesgo y mayor beneficio."
   ]
  },
  {
   "cell_type": "markdown",
   "metadata": {},
   "source": [
    "### 1 Voy a cargar las librerías y las tablas con la información de los pozos, además de observar la información de las mismas."
   ]
  },
  {
   "cell_type": "code",
   "execution_count": 1,
   "metadata": {},
   "outputs": [],
   "source": [
    "# Cargar librerías.\n",
    "\n",
    "from scipy import stats as st\n",
    "import pandas as pd\n",
    "from matplotlib import pyplot as plt\n",
    "import numpy as np\n",
    "import seaborn as sns\n",
    "import math\n",
    "from sklearn.model_selection import train_test_split\n",
    "from sklearn.metrics import mean_squared_error\n",
    "from sklearn.metrics import accuracy_score\n",
    "from sklearn.tree import DecisionTreeClassifier\n",
    "from sklearn.linear_model import LogisticRegression\n",
    "from sklearn.ensemble import RandomForestClassifier\n",
    "from sklearn.ensemble import RandomForestRegressor\n",
    "from sklearn.metrics import mean_absolute_error\n",
    "from sklearn.metrics import mean_absolute_error\n",
    "from sklearn.linear_model import LinearRegression\n",
    "from sklearn.preprocessing import StandardScaler\n",
    "from sklearn.metrics import f1_score\n",
    "from sklearn.metrics import roc_auc_score\n",
    "from sklearn.preprocessing import OrdinalEncoder\n",
    "from sklearn.utils import shuffle"
   ]
  },
  {
   "cell_type": "code",
   "execution_count": 2,
   "metadata": {},
   "outputs": [],
   "source": [
    "# Carga los datos de los DataFrames.\n",
    "\n",
    "data0 = pd.read_csv('/datasets/geo_data_0.csv')\n",
    "data1 = pd.read_csv('/datasets/geo_data_1.csv')\n",
    "data2 = pd.read_csv('/datasets/geo_data_2.csv')"
   ]
  },
  {
   "cell_type": "code",
   "execution_count": 3,
   "metadata": {},
   "outputs": [
    {
     "data": {
      "text/html": [
       "<div>\n",
       "<style scoped>\n",
       "    .dataframe tbody tr th:only-of-type {\n",
       "        vertical-align: middle;\n",
       "    }\n",
       "\n",
       "    .dataframe tbody tr th {\n",
       "        vertical-align: top;\n",
       "    }\n",
       "\n",
       "    .dataframe thead th {\n",
       "        text-align: right;\n",
       "    }\n",
       "</style>\n",
       "<table border=\"1\" class=\"dataframe\">\n",
       "  <thead>\n",
       "    <tr style=\"text-align: right;\">\n",
       "      <th></th>\n",
       "      <th>id</th>\n",
       "      <th>f0</th>\n",
       "      <th>f1</th>\n",
       "      <th>f2</th>\n",
       "      <th>product</th>\n",
       "    </tr>\n",
       "  </thead>\n",
       "  <tbody>\n",
       "    <tr>\n",
       "      <th>0</th>\n",
       "      <td>txEyH</td>\n",
       "      <td>0.705745</td>\n",
       "      <td>-0.497823</td>\n",
       "      <td>1.221170</td>\n",
       "      <td>105.280062</td>\n",
       "    </tr>\n",
       "    <tr>\n",
       "      <th>1</th>\n",
       "      <td>2acmU</td>\n",
       "      <td>1.334711</td>\n",
       "      <td>-0.340164</td>\n",
       "      <td>4.365080</td>\n",
       "      <td>73.037750</td>\n",
       "    </tr>\n",
       "    <tr>\n",
       "      <th>2</th>\n",
       "      <td>409Wp</td>\n",
       "      <td>1.022732</td>\n",
       "      <td>0.151990</td>\n",
       "      <td>1.419926</td>\n",
       "      <td>85.265647</td>\n",
       "    </tr>\n",
       "    <tr>\n",
       "      <th>3</th>\n",
       "      <td>iJLyR</td>\n",
       "      <td>-0.032172</td>\n",
       "      <td>0.139033</td>\n",
       "      <td>2.978566</td>\n",
       "      <td>168.620776</td>\n",
       "    </tr>\n",
       "    <tr>\n",
       "      <th>4</th>\n",
       "      <td>Xdl7t</td>\n",
       "      <td>1.988431</td>\n",
       "      <td>0.155413</td>\n",
       "      <td>4.751769</td>\n",
       "      <td>154.036647</td>\n",
       "    </tr>\n",
       "    <tr>\n",
       "      <th>5</th>\n",
       "      <td>wX4Hy</td>\n",
       "      <td>0.969570</td>\n",
       "      <td>0.489775</td>\n",
       "      <td>-0.735383</td>\n",
       "      <td>64.741541</td>\n",
       "    </tr>\n",
       "    <tr>\n",
       "      <th>6</th>\n",
       "      <td>tL6pL</td>\n",
       "      <td>0.645075</td>\n",
       "      <td>0.530656</td>\n",
       "      <td>1.780266</td>\n",
       "      <td>49.055285</td>\n",
       "    </tr>\n",
       "    <tr>\n",
       "      <th>7</th>\n",
       "      <td>BYPU6</td>\n",
       "      <td>-0.400648</td>\n",
       "      <td>0.808337</td>\n",
       "      <td>-5.624670</td>\n",
       "      <td>72.943292</td>\n",
       "    </tr>\n",
       "    <tr>\n",
       "      <th>8</th>\n",
       "      <td>j9Oui</td>\n",
       "      <td>0.643105</td>\n",
       "      <td>-0.551583</td>\n",
       "      <td>2.372141</td>\n",
       "      <td>113.356160</td>\n",
       "    </tr>\n",
       "    <tr>\n",
       "      <th>9</th>\n",
       "      <td>OLuZU</td>\n",
       "      <td>2.173381</td>\n",
       "      <td>0.563698</td>\n",
       "      <td>9.441852</td>\n",
       "      <td>127.910945</td>\n",
       "    </tr>\n",
       "  </tbody>\n",
       "</table>\n",
       "</div>"
      ],
      "text/plain": [
       "      id        f0        f1        f2     product\n",
       "0  txEyH  0.705745 -0.497823  1.221170  105.280062\n",
       "1  2acmU  1.334711 -0.340164  4.365080   73.037750\n",
       "2  409Wp  1.022732  0.151990  1.419926   85.265647\n",
       "3  iJLyR -0.032172  0.139033  2.978566  168.620776\n",
       "4  Xdl7t  1.988431  0.155413  4.751769  154.036647\n",
       "5  wX4Hy  0.969570  0.489775 -0.735383   64.741541\n",
       "6  tL6pL  0.645075  0.530656  1.780266   49.055285\n",
       "7  BYPU6 -0.400648  0.808337 -5.624670   72.943292\n",
       "8  j9Oui  0.643105 -0.551583  2.372141  113.356160\n",
       "9  OLuZU  2.173381  0.563698  9.441852  127.910945"
      ]
     },
     "execution_count": 3,
     "metadata": {},
     "output_type": "execute_result"
    }
   ],
   "source": [
    "# Mostrar parte del Dataframe 0\n",
    "\n",
    "data0.head(10)"
   ]
  },
  {
   "cell_type": "code",
   "execution_count": 4,
   "metadata": {},
   "outputs": [
    {
     "data": {
      "text/html": [
       "<div>\n",
       "<style scoped>\n",
       "    .dataframe tbody tr th:only-of-type {\n",
       "        vertical-align: middle;\n",
       "    }\n",
       "\n",
       "    .dataframe tbody tr th {\n",
       "        vertical-align: top;\n",
       "    }\n",
       "\n",
       "    .dataframe thead th {\n",
       "        text-align: right;\n",
       "    }\n",
       "</style>\n",
       "<table border=\"1\" class=\"dataframe\">\n",
       "  <thead>\n",
       "    <tr style=\"text-align: right;\">\n",
       "      <th></th>\n",
       "      <th>id</th>\n",
       "      <th>f0</th>\n",
       "      <th>f1</th>\n",
       "      <th>f2</th>\n",
       "      <th>product</th>\n",
       "    </tr>\n",
       "  </thead>\n",
       "  <tbody>\n",
       "    <tr>\n",
       "      <th>0</th>\n",
       "      <td>kBEdx</td>\n",
       "      <td>-15.001348</td>\n",
       "      <td>-8.276000</td>\n",
       "      <td>-0.005876</td>\n",
       "      <td>3.179103</td>\n",
       "    </tr>\n",
       "    <tr>\n",
       "      <th>1</th>\n",
       "      <td>62mP7</td>\n",
       "      <td>14.272088</td>\n",
       "      <td>-3.475083</td>\n",
       "      <td>0.999183</td>\n",
       "      <td>26.953261</td>\n",
       "    </tr>\n",
       "    <tr>\n",
       "      <th>2</th>\n",
       "      <td>vyE1P</td>\n",
       "      <td>6.263187</td>\n",
       "      <td>-5.948386</td>\n",
       "      <td>5.001160</td>\n",
       "      <td>134.766305</td>\n",
       "    </tr>\n",
       "    <tr>\n",
       "      <th>3</th>\n",
       "      <td>KcrkZ</td>\n",
       "      <td>-13.081196</td>\n",
       "      <td>-11.506057</td>\n",
       "      <td>4.999415</td>\n",
       "      <td>137.945408</td>\n",
       "    </tr>\n",
       "    <tr>\n",
       "      <th>4</th>\n",
       "      <td>AHL4O</td>\n",
       "      <td>12.702195</td>\n",
       "      <td>-8.147433</td>\n",
       "      <td>5.004363</td>\n",
       "      <td>134.766305</td>\n",
       "    </tr>\n",
       "    <tr>\n",
       "      <th>5</th>\n",
       "      <td>HHckp</td>\n",
       "      <td>-3.327590</td>\n",
       "      <td>-2.205276</td>\n",
       "      <td>3.003647</td>\n",
       "      <td>84.038886</td>\n",
       "    </tr>\n",
       "    <tr>\n",
       "      <th>6</th>\n",
       "      <td>h5Ujo</td>\n",
       "      <td>-11.142655</td>\n",
       "      <td>-10.133399</td>\n",
       "      <td>4.002382</td>\n",
       "      <td>110.992147</td>\n",
       "    </tr>\n",
       "    <tr>\n",
       "      <th>7</th>\n",
       "      <td>muH9x</td>\n",
       "      <td>4.234715</td>\n",
       "      <td>-0.001354</td>\n",
       "      <td>2.004588</td>\n",
       "      <td>53.906522</td>\n",
       "    </tr>\n",
       "    <tr>\n",
       "      <th>8</th>\n",
       "      <td>YiRkx</td>\n",
       "      <td>13.355129</td>\n",
       "      <td>-0.332068</td>\n",
       "      <td>4.998647</td>\n",
       "      <td>134.766305</td>\n",
       "    </tr>\n",
       "    <tr>\n",
       "      <th>9</th>\n",
       "      <td>jG6Gi</td>\n",
       "      <td>1.069227</td>\n",
       "      <td>-11.025667</td>\n",
       "      <td>4.997844</td>\n",
       "      <td>137.945408</td>\n",
       "    </tr>\n",
       "  </tbody>\n",
       "</table>\n",
       "</div>"
      ],
      "text/plain": [
       "      id         f0         f1        f2     product\n",
       "0  kBEdx -15.001348  -8.276000 -0.005876    3.179103\n",
       "1  62mP7  14.272088  -3.475083  0.999183   26.953261\n",
       "2  vyE1P   6.263187  -5.948386  5.001160  134.766305\n",
       "3  KcrkZ -13.081196 -11.506057  4.999415  137.945408\n",
       "4  AHL4O  12.702195  -8.147433  5.004363  134.766305\n",
       "5  HHckp  -3.327590  -2.205276  3.003647   84.038886\n",
       "6  h5Ujo -11.142655 -10.133399  4.002382  110.992147\n",
       "7  muH9x   4.234715  -0.001354  2.004588   53.906522\n",
       "8  YiRkx  13.355129  -0.332068  4.998647  134.766305\n",
       "9  jG6Gi   1.069227 -11.025667  4.997844  137.945408"
      ]
     },
     "execution_count": 4,
     "metadata": {},
     "output_type": "execute_result"
    }
   ],
   "source": [
    "# Mostrar parte del Dataframe 1\n",
    "\n",
    "data1.head(10)"
   ]
  },
  {
   "cell_type": "code",
   "execution_count": 5,
   "metadata": {},
   "outputs": [
    {
     "data": {
      "text/html": [
       "<div>\n",
       "<style scoped>\n",
       "    .dataframe tbody tr th:only-of-type {\n",
       "        vertical-align: middle;\n",
       "    }\n",
       "\n",
       "    .dataframe tbody tr th {\n",
       "        vertical-align: top;\n",
       "    }\n",
       "\n",
       "    .dataframe thead th {\n",
       "        text-align: right;\n",
       "    }\n",
       "</style>\n",
       "<table border=\"1\" class=\"dataframe\">\n",
       "  <thead>\n",
       "    <tr style=\"text-align: right;\">\n",
       "      <th></th>\n",
       "      <th>id</th>\n",
       "      <th>f0</th>\n",
       "      <th>f1</th>\n",
       "      <th>f2</th>\n",
       "      <th>product</th>\n",
       "    </tr>\n",
       "  </thead>\n",
       "  <tbody>\n",
       "    <tr>\n",
       "      <th>0</th>\n",
       "      <td>fwXo0</td>\n",
       "      <td>-1.146987</td>\n",
       "      <td>0.963328</td>\n",
       "      <td>-0.828965</td>\n",
       "      <td>27.758673</td>\n",
       "    </tr>\n",
       "    <tr>\n",
       "      <th>1</th>\n",
       "      <td>WJtFt</td>\n",
       "      <td>0.262778</td>\n",
       "      <td>0.269839</td>\n",
       "      <td>-2.530187</td>\n",
       "      <td>56.069697</td>\n",
       "    </tr>\n",
       "    <tr>\n",
       "      <th>2</th>\n",
       "      <td>ovLUW</td>\n",
       "      <td>0.194587</td>\n",
       "      <td>0.289035</td>\n",
       "      <td>-5.586433</td>\n",
       "      <td>62.871910</td>\n",
       "    </tr>\n",
       "    <tr>\n",
       "      <th>3</th>\n",
       "      <td>q6cA6</td>\n",
       "      <td>2.236060</td>\n",
       "      <td>-0.553760</td>\n",
       "      <td>0.930038</td>\n",
       "      <td>114.572842</td>\n",
       "    </tr>\n",
       "    <tr>\n",
       "      <th>4</th>\n",
       "      <td>WPMUX</td>\n",
       "      <td>-0.515993</td>\n",
       "      <td>1.716266</td>\n",
       "      <td>5.899011</td>\n",
       "      <td>149.600746</td>\n",
       "    </tr>\n",
       "    <tr>\n",
       "      <th>5</th>\n",
       "      <td>LzZXx</td>\n",
       "      <td>-0.758092</td>\n",
       "      <td>0.710691</td>\n",
       "      <td>2.585887</td>\n",
       "      <td>90.222465</td>\n",
       "    </tr>\n",
       "    <tr>\n",
       "      <th>6</th>\n",
       "      <td>WBHRv</td>\n",
       "      <td>-0.574891</td>\n",
       "      <td>0.317727</td>\n",
       "      <td>1.773745</td>\n",
       "      <td>45.641478</td>\n",
       "    </tr>\n",
       "    <tr>\n",
       "      <th>7</th>\n",
       "      <td>XO8fn</td>\n",
       "      <td>-1.906649</td>\n",
       "      <td>-2.458350</td>\n",
       "      <td>-0.177097</td>\n",
       "      <td>72.480640</td>\n",
       "    </tr>\n",
       "    <tr>\n",
       "      <th>8</th>\n",
       "      <td>ybmQ5</td>\n",
       "      <td>1.776292</td>\n",
       "      <td>-0.279356</td>\n",
       "      <td>3.004156</td>\n",
       "      <td>106.616832</td>\n",
       "    </tr>\n",
       "    <tr>\n",
       "      <th>9</th>\n",
       "      <td>OilcN</td>\n",
       "      <td>-1.214452</td>\n",
       "      <td>-0.439314</td>\n",
       "      <td>5.922514</td>\n",
       "      <td>52.954532</td>\n",
       "    </tr>\n",
       "  </tbody>\n",
       "</table>\n",
       "</div>"
      ],
      "text/plain": [
       "      id        f0        f1        f2     product\n",
       "0  fwXo0 -1.146987  0.963328 -0.828965   27.758673\n",
       "1  WJtFt  0.262778  0.269839 -2.530187   56.069697\n",
       "2  ovLUW  0.194587  0.289035 -5.586433   62.871910\n",
       "3  q6cA6  2.236060 -0.553760  0.930038  114.572842\n",
       "4  WPMUX -0.515993  1.716266  5.899011  149.600746\n",
       "5  LzZXx -0.758092  0.710691  2.585887   90.222465\n",
       "6  WBHRv -0.574891  0.317727  1.773745   45.641478\n",
       "7  XO8fn -1.906649 -2.458350 -0.177097   72.480640\n",
       "8  ybmQ5  1.776292 -0.279356  3.004156  106.616832\n",
       "9  OilcN -1.214452 -0.439314  5.922514   52.954532"
      ]
     },
     "execution_count": 5,
     "metadata": {},
     "output_type": "execute_result"
    }
   ],
   "source": [
    "# Mostrar parte del Dataframe 2\n",
    "\n",
    "data2.head(10)"
   ]
  },
  {
   "cell_type": "code",
   "execution_count": 6,
   "metadata": {},
   "outputs": [
    {
     "data": {
      "text/html": [
       "<div>\n",
       "<style scoped>\n",
       "    .dataframe tbody tr th:only-of-type {\n",
       "        vertical-align: middle;\n",
       "    }\n",
       "\n",
       "    .dataframe tbody tr th {\n",
       "        vertical-align: top;\n",
       "    }\n",
       "\n",
       "    .dataframe thead th {\n",
       "        text-align: right;\n",
       "    }\n",
       "</style>\n",
       "<table border=\"1\" class=\"dataframe\">\n",
       "  <thead>\n",
       "    <tr style=\"text-align: right;\">\n",
       "      <th></th>\n",
       "      <th>f0</th>\n",
       "      <th>f1</th>\n",
       "      <th>f2</th>\n",
       "      <th>product</th>\n",
       "    </tr>\n",
       "  </thead>\n",
       "  <tbody>\n",
       "    <tr>\n",
       "      <th>count</th>\n",
       "      <td>100000.000000</td>\n",
       "      <td>100000.000000</td>\n",
       "      <td>100000.000000</td>\n",
       "      <td>100000.000000</td>\n",
       "    </tr>\n",
       "    <tr>\n",
       "      <th>mean</th>\n",
       "      <td>0.500419</td>\n",
       "      <td>0.250143</td>\n",
       "      <td>2.502647</td>\n",
       "      <td>92.500000</td>\n",
       "    </tr>\n",
       "    <tr>\n",
       "      <th>std</th>\n",
       "      <td>0.871832</td>\n",
       "      <td>0.504433</td>\n",
       "      <td>3.248248</td>\n",
       "      <td>44.288691</td>\n",
       "    </tr>\n",
       "    <tr>\n",
       "      <th>min</th>\n",
       "      <td>-1.408605</td>\n",
       "      <td>-0.848218</td>\n",
       "      <td>-12.088328</td>\n",
       "      <td>0.000000</td>\n",
       "    </tr>\n",
       "    <tr>\n",
       "      <th>25%</th>\n",
       "      <td>-0.072580</td>\n",
       "      <td>-0.200881</td>\n",
       "      <td>0.287748</td>\n",
       "      <td>56.497507</td>\n",
       "    </tr>\n",
       "    <tr>\n",
       "      <th>50%</th>\n",
       "      <td>0.502360</td>\n",
       "      <td>0.250252</td>\n",
       "      <td>2.515969</td>\n",
       "      <td>91.849972</td>\n",
       "    </tr>\n",
       "    <tr>\n",
       "      <th>75%</th>\n",
       "      <td>1.073581</td>\n",
       "      <td>0.700646</td>\n",
       "      <td>4.715088</td>\n",
       "      <td>128.564089</td>\n",
       "    </tr>\n",
       "    <tr>\n",
       "      <th>max</th>\n",
       "      <td>2.362331</td>\n",
       "      <td>1.343769</td>\n",
       "      <td>16.003790</td>\n",
       "      <td>185.364347</td>\n",
       "    </tr>\n",
       "  </tbody>\n",
       "</table>\n",
       "</div>"
      ],
      "text/plain": [
       "                  f0             f1             f2        product\n",
       "count  100000.000000  100000.000000  100000.000000  100000.000000\n",
       "mean        0.500419       0.250143       2.502647      92.500000\n",
       "std         0.871832       0.504433       3.248248      44.288691\n",
       "min        -1.408605      -0.848218     -12.088328       0.000000\n",
       "25%        -0.072580      -0.200881       0.287748      56.497507\n",
       "50%         0.502360       0.250252       2.515969      91.849972\n",
       "75%         1.073581       0.700646       4.715088     128.564089\n",
       "max         2.362331       1.343769      16.003790     185.364347"
      ]
     },
     "execution_count": 6,
     "metadata": {},
     "output_type": "execute_result"
    }
   ],
   "source": [
    "# Ver descripción general 0\n",
    "\n",
    "data0.describe()"
   ]
  },
  {
   "cell_type": "code",
   "execution_count": 7,
   "metadata": {},
   "outputs": [
    {
     "data": {
      "text/html": [
       "<div>\n",
       "<style scoped>\n",
       "    .dataframe tbody tr th:only-of-type {\n",
       "        vertical-align: middle;\n",
       "    }\n",
       "\n",
       "    .dataframe tbody tr th {\n",
       "        vertical-align: top;\n",
       "    }\n",
       "\n",
       "    .dataframe thead th {\n",
       "        text-align: right;\n",
       "    }\n",
       "</style>\n",
       "<table border=\"1\" class=\"dataframe\">\n",
       "  <thead>\n",
       "    <tr style=\"text-align: right;\">\n",
       "      <th></th>\n",
       "      <th>f0</th>\n",
       "      <th>f1</th>\n",
       "      <th>f2</th>\n",
       "      <th>product</th>\n",
       "    </tr>\n",
       "  </thead>\n",
       "  <tbody>\n",
       "    <tr>\n",
       "      <th>count</th>\n",
       "      <td>100000.000000</td>\n",
       "      <td>100000.000000</td>\n",
       "      <td>100000.000000</td>\n",
       "      <td>100000.000000</td>\n",
       "    </tr>\n",
       "    <tr>\n",
       "      <th>mean</th>\n",
       "      <td>1.141296</td>\n",
       "      <td>-4.796579</td>\n",
       "      <td>2.494541</td>\n",
       "      <td>68.825000</td>\n",
       "    </tr>\n",
       "    <tr>\n",
       "      <th>std</th>\n",
       "      <td>8.965932</td>\n",
       "      <td>5.119872</td>\n",
       "      <td>1.703572</td>\n",
       "      <td>45.944423</td>\n",
       "    </tr>\n",
       "    <tr>\n",
       "      <th>min</th>\n",
       "      <td>-31.609576</td>\n",
       "      <td>-26.358598</td>\n",
       "      <td>-0.018144</td>\n",
       "      <td>0.000000</td>\n",
       "    </tr>\n",
       "    <tr>\n",
       "      <th>25%</th>\n",
       "      <td>-6.298551</td>\n",
       "      <td>-8.267985</td>\n",
       "      <td>1.000021</td>\n",
       "      <td>26.953261</td>\n",
       "    </tr>\n",
       "    <tr>\n",
       "      <th>50%</th>\n",
       "      <td>1.153055</td>\n",
       "      <td>-4.813172</td>\n",
       "      <td>2.011479</td>\n",
       "      <td>57.085625</td>\n",
       "    </tr>\n",
       "    <tr>\n",
       "      <th>75%</th>\n",
       "      <td>8.621015</td>\n",
       "      <td>-1.332816</td>\n",
       "      <td>3.999904</td>\n",
       "      <td>107.813044</td>\n",
       "    </tr>\n",
       "    <tr>\n",
       "      <th>max</th>\n",
       "      <td>29.421755</td>\n",
       "      <td>18.734063</td>\n",
       "      <td>5.019721</td>\n",
       "      <td>137.945408</td>\n",
       "    </tr>\n",
       "  </tbody>\n",
       "</table>\n",
       "</div>"
      ],
      "text/plain": [
       "                  f0             f1             f2        product\n",
       "count  100000.000000  100000.000000  100000.000000  100000.000000\n",
       "mean        1.141296      -4.796579       2.494541      68.825000\n",
       "std         8.965932       5.119872       1.703572      45.944423\n",
       "min       -31.609576     -26.358598      -0.018144       0.000000\n",
       "25%        -6.298551      -8.267985       1.000021      26.953261\n",
       "50%         1.153055      -4.813172       2.011479      57.085625\n",
       "75%         8.621015      -1.332816       3.999904     107.813044\n",
       "max        29.421755      18.734063       5.019721     137.945408"
      ]
     },
     "execution_count": 7,
     "metadata": {},
     "output_type": "execute_result"
    }
   ],
   "source": [
    "# Ver descripción general 1\n",
    "\n",
    "data1.describe()"
   ]
  },
  {
   "cell_type": "code",
   "execution_count": 8,
   "metadata": {},
   "outputs": [
    {
     "data": {
      "text/html": [
       "<div>\n",
       "<style scoped>\n",
       "    .dataframe tbody tr th:only-of-type {\n",
       "        vertical-align: middle;\n",
       "    }\n",
       "\n",
       "    .dataframe tbody tr th {\n",
       "        vertical-align: top;\n",
       "    }\n",
       "\n",
       "    .dataframe thead th {\n",
       "        text-align: right;\n",
       "    }\n",
       "</style>\n",
       "<table border=\"1\" class=\"dataframe\">\n",
       "  <thead>\n",
       "    <tr style=\"text-align: right;\">\n",
       "      <th></th>\n",
       "      <th>f0</th>\n",
       "      <th>f1</th>\n",
       "      <th>f2</th>\n",
       "      <th>product</th>\n",
       "    </tr>\n",
       "  </thead>\n",
       "  <tbody>\n",
       "    <tr>\n",
       "      <th>count</th>\n",
       "      <td>100000.000000</td>\n",
       "      <td>100000.000000</td>\n",
       "      <td>100000.000000</td>\n",
       "      <td>100000.000000</td>\n",
       "    </tr>\n",
       "    <tr>\n",
       "      <th>mean</th>\n",
       "      <td>0.002023</td>\n",
       "      <td>-0.002081</td>\n",
       "      <td>2.495128</td>\n",
       "      <td>95.000000</td>\n",
       "    </tr>\n",
       "    <tr>\n",
       "      <th>std</th>\n",
       "      <td>1.732045</td>\n",
       "      <td>1.730417</td>\n",
       "      <td>3.473445</td>\n",
       "      <td>44.749921</td>\n",
       "    </tr>\n",
       "    <tr>\n",
       "      <th>min</th>\n",
       "      <td>-8.760004</td>\n",
       "      <td>-7.084020</td>\n",
       "      <td>-11.970335</td>\n",
       "      <td>0.000000</td>\n",
       "    </tr>\n",
       "    <tr>\n",
       "      <th>25%</th>\n",
       "      <td>-1.162288</td>\n",
       "      <td>-1.174820</td>\n",
       "      <td>0.130359</td>\n",
       "      <td>59.450441</td>\n",
       "    </tr>\n",
       "    <tr>\n",
       "      <th>50%</th>\n",
       "      <td>0.009424</td>\n",
       "      <td>-0.009482</td>\n",
       "      <td>2.484236</td>\n",
       "      <td>94.925613</td>\n",
       "    </tr>\n",
       "    <tr>\n",
       "      <th>75%</th>\n",
       "      <td>1.158535</td>\n",
       "      <td>1.163678</td>\n",
       "      <td>4.858794</td>\n",
       "      <td>130.595027</td>\n",
       "    </tr>\n",
       "    <tr>\n",
       "      <th>max</th>\n",
       "      <td>7.238262</td>\n",
       "      <td>7.844801</td>\n",
       "      <td>16.739402</td>\n",
       "      <td>190.029838</td>\n",
       "    </tr>\n",
       "  </tbody>\n",
       "</table>\n",
       "</div>"
      ],
      "text/plain": [
       "                  f0             f1             f2        product\n",
       "count  100000.000000  100000.000000  100000.000000  100000.000000\n",
       "mean        0.002023      -0.002081       2.495128      95.000000\n",
       "std         1.732045       1.730417       3.473445      44.749921\n",
       "min        -8.760004      -7.084020     -11.970335       0.000000\n",
       "25%        -1.162288      -1.174820       0.130359      59.450441\n",
       "50%         0.009424      -0.009482       2.484236      94.925613\n",
       "75%         1.158535       1.163678       4.858794     130.595027\n",
       "max         7.238262       7.844801      16.739402     190.029838"
      ]
     },
     "execution_count": 8,
     "metadata": {},
     "output_type": "execute_result"
    }
   ],
   "source": [
    "# Ver descripción general 2\n",
    "\n",
    "data2.describe()"
   ]
  },
  {
   "cell_type": "markdown",
   "metadata": {},
   "source": [
    "Intenté hacer gráficas, pero se muere el kernel. Hago primero el concat y luego grafico el eje \"y\" como producto y no me lo permitió."
   ]
  },
  {
   "cell_type": "code",
   "execution_count": 9,
   "metadata": {},
   "outputs": [
    {
     "name": "stdout",
     "output_type": "stream",
     "text": [
      "Empty DataFrame\n",
      "Columns: [id, f0, f1, f2, product]\n",
      "Index: []\n"
     ]
    }
   ],
   "source": [
    "# Ver si hay duplicados 0\n",
    "\n",
    "print(data0[data0.duplicated()])"
   ]
  },
  {
   "cell_type": "code",
   "execution_count": 10,
   "metadata": {},
   "outputs": [
    {
     "name": "stdout",
     "output_type": "stream",
     "text": [
      "Empty DataFrame\n",
      "Columns: [id, f0, f1, f2, product]\n",
      "Index: []\n"
     ]
    }
   ],
   "source": [
    "# Ver si hay duplicados 1\n",
    "\n",
    "print(data1[data1.duplicated()])"
   ]
  },
  {
   "cell_type": "code",
   "execution_count": 11,
   "metadata": {},
   "outputs": [
    {
     "name": "stdout",
     "output_type": "stream",
     "text": [
      "Empty DataFrame\n",
      "Columns: [id, f0, f1, f2, product]\n",
      "Index: []\n"
     ]
    }
   ],
   "source": [
    "# Ver si hay duplicados 2\n",
    "\n",
    "print(data2[data2.duplicated()])"
   ]
  },
  {
   "cell_type": "code",
   "execution_count": 12,
   "metadata": {},
   "outputs": [
    {
     "name": "stdout",
     "output_type": "stream",
     "text": [
      "<class 'pandas.core.frame.DataFrame'>\n",
      "RangeIndex: 100000 entries, 0 to 99999\n",
      "Data columns (total 5 columns):\n",
      " #   Column   Non-Null Count   Dtype  \n",
      "---  ------   --------------   -----  \n",
      " 0   id       100000 non-null  object \n",
      " 1   f0       100000 non-null  float64\n",
      " 2   f1       100000 non-null  float64\n",
      " 3   f2       100000 non-null  float64\n",
      " 4   product  100000 non-null  float64\n",
      "dtypes: float64(4), object(1)\n",
      "memory usage: 3.8+ MB\n"
     ]
    }
   ],
   "source": [
    "# Ver si hay valores nulos 0\n",
    "\n",
    "data0.info()"
   ]
  },
  {
   "cell_type": "code",
   "execution_count": 13,
   "metadata": {},
   "outputs": [
    {
     "name": "stdout",
     "output_type": "stream",
     "text": [
      "<class 'pandas.core.frame.DataFrame'>\n",
      "RangeIndex: 100000 entries, 0 to 99999\n",
      "Data columns (total 5 columns):\n",
      " #   Column   Non-Null Count   Dtype  \n",
      "---  ------   --------------   -----  \n",
      " 0   id       100000 non-null  object \n",
      " 1   f0       100000 non-null  float64\n",
      " 2   f1       100000 non-null  float64\n",
      " 3   f2       100000 non-null  float64\n",
      " 4   product  100000 non-null  float64\n",
      "dtypes: float64(4), object(1)\n",
      "memory usage: 3.8+ MB\n"
     ]
    }
   ],
   "source": [
    "# Ver si hay valores nulos 1\n",
    "\n",
    "data1.info()"
   ]
  },
  {
   "cell_type": "code",
   "execution_count": 14,
   "metadata": {},
   "outputs": [
    {
     "name": "stdout",
     "output_type": "stream",
     "text": [
      "<class 'pandas.core.frame.DataFrame'>\n",
      "RangeIndex: 100000 entries, 0 to 99999\n",
      "Data columns (total 5 columns):\n",
      " #   Column   Non-Null Count   Dtype  \n",
      "---  ------   --------------   -----  \n",
      " 0   id       100000 non-null  object \n",
      " 1   f0       100000 non-null  float64\n",
      " 2   f1       100000 non-null  float64\n",
      " 3   f2       100000 non-null  float64\n",
      " 4   product  100000 non-null  float64\n",
      "dtypes: float64(4), object(1)\n",
      "memory usage: 3.8+ MB\n"
     ]
    }
   ],
   "source": [
    "# Ver si hay valores nulos 2\n",
    "\n",
    "data2.info()"
   ]
  },
  {
   "cell_type": "markdown",
   "metadata": {},
   "source": [
    "### 2 Comenzaré a usar los datasets para entrenar los modelos y medir su exactitud."
   ]
  },
  {
   "cell_type": "code",
   "execution_count": 15,
   "metadata": {},
   "outputs": [],
   "source": [
    "# Divido los datos del dataset 0 en un conjunto de entrenamiento y un conjunto de validación en una proporción de 75:25\n",
    "\n",
    "target = data0['product']\n",
    "features = data0.drop(['product', 'id'], axis=1)\n",
    "features_train, features_valid, target_train, target_valid1 = train_test_split(features, target, test_size=0.25, random_state=54321)"
   ]
  },
  {
   "cell_type": "code",
   "execution_count": 16,
   "metadata": {},
   "outputs": [
    {
     "name": "stdout",
     "output_type": "stream",
     "text": [
      "RECM del modelo de regresión lineal en el conjunto de validación: 37.68341093860808\n",
      "Volumen medio de reservas predicho 92.15921155743655\n"
     ]
    }
   ],
   "source": [
    "# Entrenamiento de modelo y predicciones\n",
    "\n",
    "model = LinearRegression() # inicializo el constructor de modelos\n",
    "model.fit(features_train,target_train) # entreno el modelo en el conjunto de entrenamiento\n",
    "predictions_valid1 = model.predict(features_valid) # obtengo las predicciones del modelo en el conjunto de validación\n",
    "\n",
    "result1 = mean_squared_error(target_valid1, predictions_valid1) ** 0.5\n",
    "# calculo la RECM en el conjunto de validación\n",
    "print(\"RECM del modelo de regresión lineal en el conjunto de validación:\", result1)\n",
    "print(\"Volumen medio de reservas predicho\", predictions_valid1.mean())"
   ]
  },
  {
   "cell_type": "code",
   "execution_count": 17,
   "metadata": {},
   "outputs": [],
   "source": [
    "# Divido los datos del dataset 1 en un conjunto de entrenamiento y un conjunto de validación en una proporción de 75:25\n",
    "\n",
    "target = data1['product']\n",
    "features = data1.drop(['product', 'id'], axis=1)\n",
    "features_train, features_valid, target_train, target_valid2 = train_test_split(features, target, test_size=0.25, random_state=54321)"
   ]
  },
  {
   "cell_type": "code",
   "execution_count": 18,
   "metadata": {},
   "outputs": [
    {
     "name": "stdout",
     "output_type": "stream",
     "text": [
      "RECM del modelo de regresión lineal en el conjunto de validación: 0.8922819708481473\n",
      "Volumen medio de reservas predicho 68.44594093153303\n"
     ]
    }
   ],
   "source": [
    "# Entrenamiento de modelo y predicciones\n",
    "\n",
    "model = LinearRegression() # inicializo el constructor de modelos\n",
    "model.fit(features_train,target_train) # entreno el modelo en el conjunto de entrenamiento\n",
    "predictions_valid2 = model.predict(features_valid) # obtengo las predicciones del modelo en el conjunto de validación\n",
    "\n",
    "result2 = mean_squared_error(target_valid2, predictions_valid2) ** 0.5\n",
    "# calculo la RECM en el conjunto de validación\n",
    "print(\"RECM del modelo de regresión lineal en el conjunto de validación:\", result2)\n",
    "print(\"Volumen medio de reservas predicho\", predictions_valid2.mean())"
   ]
  },
  {
   "cell_type": "code",
   "execution_count": 19,
   "metadata": {},
   "outputs": [],
   "source": [
    "# Divido los datos del dataset 2 en un conjunto de entrenamiento y un conjunto de validación en una proporción de 75:25\n",
    "\n",
    "target = data2['product']\n",
    "features = data2.drop(['product', 'id'], axis=1)\n",
    "features_train, features_valid, target_train, target_valid3 = train_test_split(features, target, test_size=0.25, random_state=54321)"
   ]
  },
  {
   "cell_type": "code",
   "execution_count": 20,
   "metadata": {},
   "outputs": [
    {
     "name": "stdout",
     "output_type": "stream",
     "text": [
      "RECM del modelo de regresión lineal en el conjunto de validación: 40.15250541784855\n",
      "Volumen medio de reservas predicho 94.92229500787454\n"
     ]
    }
   ],
   "source": [
    "# Entrenamiento de modelo y predicciones\n",
    "\n",
    "model = LinearRegression() # inicializo el constructor de modelos\n",
    "model.fit(features_train,target_train) # entreno el modelo en el conjunto de entrenamiento\n",
    "predictions_valid3 = model.predict(features_valid) # obtengo las predicciones del modelo en el conjunto de validación\n",
    "  \n",
    "result3 = mean_squared_error(target_valid3, predictions_valid3) ** 0.5\n",
    "# calculo la RECM en el conjunto de validación\n",
    "print(\"RECM del modelo de regresión lineal en el conjunto de validación:\", result3)\n",
    "print(\"Volumen medio de reservas predicho\", predictions_valid3.mean())"
   ]
  },
  {
   "cell_type": "markdown",
   "metadata": {},
   "source": [
    "### 3 Preparar datos para el cálculo de ganancias:\n",
    "\n",
    "Almacena todos los valores necesarios para los cálculos en variables separadas.\n",
    "\n",
    "Dada la inversión de 100 millones por 200 pozos petrolíferos, de media un pozo petrolífero debe producir al menos un valor de 500,000 dólares en unidades para evitar pérdidas (esto es equivalente a 111.1 unidades). Compara esta cantidad con la cantidad media de reservas en cada región.\n",
    "\n",
    "Presenta conclusiones sobre cómo preparar el paso para calcular el beneficio."
   ]
  },
  {
   "cell_type": "code",
   "execution_count": 21,
   "metadata": {},
   "outputs": [
    {
     "data": {
      "text/plain": [
       "count    100000.000000\n",
       "mean         92.500000\n",
       "std          44.288691\n",
       "min           0.000000\n",
       "25%          56.497507\n",
       "50%          91.849972\n",
       "75%         128.564089\n",
       "max         185.364347\n",
       "Name: product, dtype: float64"
      ]
     },
     "execution_count": 21,
     "metadata": {},
     "output_type": "execute_result"
    }
   ],
   "source": [
    "# Media región 1\n",
    "data0['product'].describe()"
   ]
  },
  {
   "cell_type": "code",
   "execution_count": 22,
   "metadata": {},
   "outputs": [
    {
     "data": {
      "text/plain": [
       "count    100000.000000\n",
       "mean         68.825000\n",
       "std          45.944423\n",
       "min           0.000000\n",
       "25%          26.953261\n",
       "50%          57.085625\n",
       "75%         107.813044\n",
       "max         137.945408\n",
       "Name: product, dtype: float64"
      ]
     },
     "execution_count": 22,
     "metadata": {},
     "output_type": "execute_result"
    }
   ],
   "source": [
    "# Media región 2\n",
    "\n",
    "data1['product'].describe()"
   ]
  },
  {
   "cell_type": "code",
   "execution_count": 23,
   "metadata": {},
   "outputs": [
    {
     "data": {
      "text/plain": [
       "count    100000.000000\n",
       "mean         95.000000\n",
       "std          44.749921\n",
       "min           0.000000\n",
       "25%          59.450441\n",
       "50%          94.925613\n",
       "75%         130.595027\n",
       "max         190.029838\n",
       "Name: product, dtype: float64"
      ]
     },
     "execution_count": 23,
     "metadata": {},
     "output_type": "execute_result"
    }
   ],
   "source": [
    "# Media región 3\n",
    "\n",
    "data2['product'].describe()"
   ]
  },
  {
   "cell_type": "markdown",
   "metadata": {},
   "source": [
    "Según la información cada 200 pozos necesitan una inversión de 100,000,000 de dólares, por pozo se requiere una producción de 500,000 dólares qué es arriba de 111.1 unidades de volumen de reserva produciendo cada unidad de volumen de reserva 4,500 dólares. Por tanto usaré estos datos para encontrar los mejóres 200 pozos de cada región para ver qué región tiene el mayor beneficio."
   ]
  },
  {
   "cell_type": "code",
   "execution_count": 24,
   "metadata": {},
   "outputs": [],
   "source": [
    "# 200 pozos = $100,000,000 inversión\n",
    "# pozo = $500,000 producción\n",
    "# 200 pozos = 111.1 unidades de volumen de reserva\n",
    "# 1 unidad de volumen de reserva = $4,500\n",
    "# riesgo < 2.5%"
   ]
  },
  {
   "cell_type": "code",
   "execution_count": 25,
   "metadata": {},
   "outputs": [],
   "source": [
    "# Función para calcular el beneficio\n",
    "\n",
    "def revenue(targ, predicts):\n",
    "    pred_ord= pd.Series(predicts).sort_values(ascending= False)    \n",
    "    selected = targ.reset_index(drop = True).iloc[pred_ord[:200].index] \n",
    "    return selected.sum()*4500 - 100000000"
   ]
  },
  {
   "cell_type": "code",
   "execution_count": 26,
   "metadata": {},
   "outputs": [
    {
     "name": "stdout",
     "output_type": "stream",
     "text": [
      "El beneficio de la región 0 es: 31786315.95503962\n"
     ]
    }
   ],
   "source": [
    "# Beneficio de la región 0\n",
    "revenue1= revenue(target_valid1, predictions_valid1)\n",
    "print(\"El beneficio de la región 0 es:\", revenue1)"
   ]
  },
  {
   "cell_type": "code",
   "execution_count": 27,
   "metadata": {},
   "outputs": [
    {
     "name": "stdout",
     "output_type": "stream",
     "text": [
      "El beneficio de la región 1 es: 24150866.966815114\n"
     ]
    }
   ],
   "source": [
    "# Beneficio de la región 1\n",
    "revenue2= revenue(target_valid2, predictions_valid2)\n",
    "print(\"El beneficio de la región 1 es:\", revenue2)"
   ]
  },
  {
   "cell_type": "code",
   "execution_count": 28,
   "metadata": {},
   "outputs": [
    {
     "name": "stdout",
     "output_type": "stream",
     "text": [
      "El beneficio de la región 2 es: 24137856.362028047\n"
     ]
    }
   ],
   "source": [
    "# Beneficio de la región 2\n",
    "revenue3= revenue(target_valid3, predictions_valid3)\n",
    "print(\"El beneficio de la región 2 es:\", revenue3)"
   ]
  },
  {
   "cell_type": "markdown",
   "metadata": {},
   "source": [
    "### 4 Conclusión del beneficio.\n",
    "\n",
    "Por medio de la función y los datos observo que el beneficio de la región 0 es el mayor. Por lo tanto es la que concluyo que debe usarse para hacer los pozos."
   ]
  },
  {
   "cell_type": "code",
   "execution_count": 30,
   "metadata": {},
   "outputs": [
    {
     "name": "stdout",
     "output_type": "stream",
     "text": [
      "Región 0 - Ganancia media: 3945069.57 USD, IC 95%: (-1094044.19, 8877458.95), Riesgo de pérdidas: 6.20%\n",
      "Región 1 - Ganancia media: 4107028.58 USD, IC 95%: (252975.77, 8167733.49), Riesgo de pérdidas: 2.20%\n",
      "Región 2 - Ganancia media: 3970368.71 USD, IC 95%: (-1654287.63, 9329683.47), Riesgo de pérdidas: 7.70%\n"
     ]
    }
   ],
   "source": [
    "# Costo de desarrollo de 200 pozos\n",
    "budget = 100000000  # 100 millones de dólares\n",
    "cost_per_well = budget / 200\n",
    "\n",
    "# Ingreso por unidad de producto (4500 dólares por mil barriles)\n",
    "revenue_per_unit = 4500\n",
    "\n",
    "# Definir el umbral de ganancias para evitar pérdidas\n",
    "breakeven_volume = cost_per_well / revenue_per_unit\n",
    "\n",
    "def calculate_profit(targ, tar_pre, n_wells=200):\n",
    "    # Seleccionar los n_wells con los valores de predicción más altos\n",
    "    selected_indices = np.argsort(tar_pre)[-n_wells:]\n",
    "    selected_reserves = targ.iloc[selected_indices]\n",
    "    \n",
    "    # Calcular la ganancia\n",
    "    total_revenue = selected_reserves.sum() * revenue_per_unit\n",
    "    total_cost = n_wells * cost_per_well\n",
    "    profit = total_revenue - total_cost\n",
    "    \n",
    "    return profit\n",
    "\n",
    "def bootstrap_profit(targ, tar_pre, n_iterations=1000, n_wells=200, sample_size=500, seed=42):\n",
    "    np.random.seed(seed)\n",
    "    profits = []\n",
    "    for i in range(n_iterations):\n",
    "        sample_indices = np.random.choice(range(len(targ)), size=sample_size, replace=True)\n",
    "        y_true_sample = targ.iloc[sample_indices]\n",
    "        y_pred_sample = tar_pre[sample_indices]\n",
    "        \n",
    "        profit = calculate_profit(y_true_sample, y_pred_sample, n_wells)\n",
    "        profits.append(profit)\n",
    "    \n",
    "    profits = pd.Series(profits)\n",
    "    mean_profit = profits.mean()\n",
    "    lower_profit = profits.quantile(0.025)\n",
    "    upper_profit = profits.quantile(0.975)\n",
    "    loss_risk = (profits < 0).mean() * 100  # Riesgo de pérdidas como porcentaje\n",
    "    \n",
    "    return mean_profit, lower_profit, upper_profit, loss_risk\n",
    "\n",
    "mean_profit_0, lower_profit_0, upper_profit_0, loss_risk_0 = bootstrap_profit(target_valid1, predictions_valid1)\n",
    "mean_profit_1, lower_profit_1, upper_profit_1, loss_risk_1 = bootstrap_profit(target_valid2, predictions_valid2)\n",
    "mean_profit_2, lower_profit_2, upper_profit_2, loss_risk_2 = bootstrap_profit(target_valid3, predictions_valid3)\n",
    "print(f'Región 0 - Ganancia media: {mean_profit_0:.2f} USD, IC 95%: ({lower_profit_0:.2f}, {upper_profit_0:.2f}), Riesgo de pérdidas: {loss_risk_0:.2f}%')\n",
    "print(f'Región 1 - Ganancia media: {mean_profit_1:.2f} USD, IC 95%: ({lower_profit_1:.2f}, {upper_profit_1:.2f}), Riesgo de pérdidas: {loss_risk_1:.2f}%')\n",
    "print(f'Región 2 - Ganancia media: {mean_profit_2:.2f} USD, IC 95%: ({lower_profit_2:.2f}, {upper_profit_2:.2f}), Riesgo de pérdidas: {loss_risk_2:.2f}%')"
   ]
  },
  {
   "cell_type": "markdown",
   "metadata": {},
   "source": [
    "### 5 Conclusión luego de calcular riesgos y ganancias para cada región:\n",
    "\n",
    "Tomando en cuenta los cambios después del bootstrap, antes del bootstrap el beneficio más alto de las regiones era de la región 0 con 31,786,315.95, después del bootstrap el beneficio más alto es de la región 1 con 4,107,028.58 y viendo también que el porcentaje de riesgo es el menor con 2.20%, sin lugar a dudas la región 1 sería la elegida al tener mejor beneficio y menor riesgo.\n",
    "\n",
    "Me parece de gran ayuda el método bootstrap para hacer estas predicciones apoyado con el intervalo de confianza para que la información sea condensada y acercarse cada vez más a lo real."
   ]
  },
  {
   "cell_type": "code",
   "execution_count": null,
   "metadata": {},
   "outputs": [],
   "source": []
  }
 ],
 "metadata": {
  "ExecuteTimeLog": [
   {
    "duration": 1501,
    "start_time": "2024-05-30T18:59:25.284Z"
   },
   {
    "duration": 1179,
    "start_time": "2024-05-30T19:03:21.716Z"
   },
   {
    "duration": 519,
    "start_time": "2024-05-30T19:04:06.154Z"
   },
   {
    "duration": 19,
    "start_time": "2024-05-30T19:04:44.767Z"
   },
   {
    "duration": 13,
    "start_time": "2024-05-30T19:04:57.519Z"
   },
   {
    "duration": 13,
    "start_time": "2024-05-30T19:05:04.639Z"
   },
   {
    "duration": 13,
    "start_time": "2024-05-30T19:05:27.768Z"
   },
   {
    "duration": 42,
    "start_time": "2024-05-30T19:06:16.724Z"
   },
   {
    "duration": 42,
    "start_time": "2024-05-30T19:06:27.285Z"
   },
   {
    "duration": 41,
    "start_time": "2024-05-30T19:06:36.180Z"
   },
   {
    "duration": 64,
    "start_time": "2024-05-30T19:07:13.479Z"
   },
   {
    "duration": 54,
    "start_time": "2024-05-30T19:07:28.078Z"
   },
   {
    "duration": 58,
    "start_time": "2024-05-30T19:07:40.844Z"
   },
   {
    "duration": 18,
    "start_time": "2024-05-30T19:07:57.413Z"
   },
   {
    "duration": 18,
    "start_time": "2024-05-30T19:08:15.377Z"
   },
   {
    "duration": 18,
    "start_time": "2024-05-30T19:08:22.181Z"
   },
   {
    "duration": 27,
    "start_time": "2024-05-30T19:22:31.138Z"
   },
   {
    "duration": 29,
    "start_time": "2024-05-30T19:26:42.774Z"
   },
   {
    "duration": 71,
    "start_time": "2024-05-30T19:32:08.921Z"
   },
   {
    "duration": 19,
    "start_time": "2024-05-30T19:33:16.638Z"
   },
   {
    "duration": 16,
    "start_time": "2024-05-30T19:33:21.948Z"
   },
   {
    "duration": 15,
    "start_time": "2024-05-30T19:40:00.576Z"
   },
   {
    "duration": 19,
    "start_time": "2024-05-30T19:44:40.524Z"
   },
   {
    "duration": 27,
    "start_time": "2024-05-30T19:44:42.335Z"
   },
   {
    "duration": 16,
    "start_time": "2024-05-30T19:46:44.728Z"
   },
   {
    "duration": 15,
    "start_time": "2024-05-30T19:46:46.710Z"
   },
   {
    "duration": 17,
    "start_time": "2024-06-03T20:01:34.492Z"
   },
   {
    "duration": 345,
    "start_time": "2024-06-04T01:41:17.115Z"
   },
   {
    "duration": 5366,
    "start_time": "2024-06-04T01:41:25.214Z"
   },
   {
    "duration": 549,
    "start_time": "2024-06-04T01:41:30.585Z"
   },
   {
    "duration": 23,
    "start_time": "2024-06-04T01:41:31.137Z"
   },
   {
    "duration": 14,
    "start_time": "2024-06-04T01:41:31.164Z"
   },
   {
    "duration": 30,
    "start_time": "2024-06-04T01:41:31.183Z"
   },
   {
    "duration": 43,
    "start_time": "2024-06-04T01:41:31.216Z"
   },
   {
    "duration": 76,
    "start_time": "2024-06-04T01:41:31.262Z"
   },
   {
    "duration": 41,
    "start_time": "2024-06-04T01:41:31.341Z"
   },
   {
    "duration": 59,
    "start_time": "2024-06-04T01:41:31.405Z"
   },
   {
    "duration": 73,
    "start_time": "2024-06-04T01:41:31.467Z"
   },
   {
    "duration": 76,
    "start_time": "2024-06-04T01:41:31.544Z"
   },
   {
    "duration": 22,
    "start_time": "2024-06-04T01:41:31.623Z"
   },
   {
    "duration": 19,
    "start_time": "2024-06-04T01:41:31.648Z"
   },
   {
    "duration": 49,
    "start_time": "2024-06-04T01:41:31.674Z"
   },
   {
    "duration": 25,
    "start_time": "2024-06-04T01:41:31.726Z"
   },
   {
    "duration": 58,
    "start_time": "2024-06-04T01:41:31.755Z"
   },
   {
    "duration": 92,
    "start_time": "2024-06-04T01:41:31.815Z"
   },
   {
    "duration": 1,
    "start_time": "2024-06-04T01:41:31.910Z"
   },
   {
    "duration": 0,
    "start_time": "2024-06-04T01:41:31.912Z"
   },
   {
    "duration": 0,
    "start_time": "2024-06-04T01:41:31.914Z"
   },
   {
    "duration": 0,
    "start_time": "2024-06-04T01:41:31.917Z"
   },
   {
    "duration": 20,
    "start_time": "2024-06-04T01:42:03.079Z"
   },
   {
    "duration": 27,
    "start_time": "2024-06-04T01:43:19.236Z"
   },
   {
    "duration": 18,
    "start_time": "2024-06-04T01:43:22.011Z"
   },
   {
    "duration": 11,
    "start_time": "2024-06-04T01:59:48.713Z"
   },
   {
    "duration": 522,
    "start_time": "2024-06-04T01:59:55.780Z"
   },
   {
    "duration": 27,
    "start_time": "2024-06-04T02:00:02.156Z"
   },
   {
    "duration": 638,
    "start_time": "2024-06-04T02:00:38.556Z"
   },
   {
    "duration": 7,
    "start_time": "2024-06-04T02:00:49.658Z"
   },
   {
    "duration": 10,
    "start_time": "2024-06-04T02:00:57.462Z"
   },
   {
    "duration": 8,
    "start_time": "2024-06-04T02:01:00.966Z"
   },
   {
    "duration": 15,
    "start_time": "2024-06-04T02:02:30.054Z"
   },
   {
    "duration": 15,
    "start_time": "2024-06-04T02:02:40.095Z"
   },
   {
    "duration": 15,
    "start_time": "2024-06-04T02:02:51.446Z"
   },
   {
    "duration": 5320,
    "start_time": "2024-06-04T21:30:14.051Z"
   },
   {
    "duration": 516,
    "start_time": "2024-06-04T21:30:19.375Z"
   },
   {
    "duration": 21,
    "start_time": "2024-06-04T21:30:19.895Z"
   },
   {
    "duration": 22,
    "start_time": "2024-06-04T21:30:19.921Z"
   },
   {
    "duration": 16,
    "start_time": "2024-06-04T21:30:19.947Z"
   },
   {
    "duration": 78,
    "start_time": "2024-06-04T21:30:19.969Z"
   },
   {
    "duration": 50,
    "start_time": "2024-06-04T21:30:20.050Z"
   },
   {
    "duration": 56,
    "start_time": "2024-06-04T21:30:20.104Z"
   },
   {
    "duration": 78,
    "start_time": "2024-06-04T21:30:20.163Z"
   },
   {
    "duration": 65,
    "start_time": "2024-06-04T21:30:20.246Z"
   },
   {
    "duration": 59,
    "start_time": "2024-06-04T21:30:20.332Z"
   },
   {
    "duration": 42,
    "start_time": "2024-06-04T21:30:20.394Z"
   },
   {
    "duration": 22,
    "start_time": "2024-06-04T21:30:20.440Z"
   },
   {
    "duration": 18,
    "start_time": "2024-06-04T21:30:20.466Z"
   },
   {
    "duration": 56,
    "start_time": "2024-06-04T21:30:20.486Z"
   },
   {
    "duration": 20,
    "start_time": "2024-06-04T21:30:20.544Z"
   },
   {
    "duration": 69,
    "start_time": "2024-06-04T21:30:20.567Z"
   },
   {
    "duration": 18,
    "start_time": "2024-06-04T21:30:20.639Z"
   },
   {
    "duration": 97,
    "start_time": "2024-06-04T21:30:20.662Z"
   },
   {
    "duration": 17,
    "start_time": "2024-06-04T21:30:20.831Z"
   },
   {
    "duration": 17,
    "start_time": "2024-06-04T21:30:20.850Z"
   },
   {
    "duration": 74,
    "start_time": "2024-06-04T21:30:20.872Z"
   },
   {
    "duration": 85,
    "start_time": "2024-06-04T21:30:20.948Z"
   },
   {
    "duration": 24,
    "start_time": "2024-06-04T21:38:15.489Z"
   },
   {
    "duration": 16,
    "start_time": "2024-06-04T21:38:30.665Z"
   },
   {
    "duration": 19,
    "start_time": "2024-06-04T21:38:37.662Z"
   },
   {
    "duration": 28,
    "start_time": "2024-06-04T21:38:52.469Z"
   },
   {
    "duration": 490,
    "start_time": "2024-06-04T21:39:27.556Z"
   },
   {
    "duration": 12,
    "start_time": "2024-06-04T21:40:18.794Z"
   },
   {
    "duration": 12,
    "start_time": "2024-06-04T21:40:37.115Z"
   },
   {
    "duration": 12,
    "start_time": "2024-06-04T21:42:06.739Z"
   },
   {
    "duration": 190,
    "start_time": "2024-06-04T21:43:13.341Z"
   },
   {
    "duration": 32,
    "start_time": "2024-06-04T21:44:01.521Z"
   },
   {
    "duration": 19,
    "start_time": "2024-06-04T21:44:07.569Z"
   },
   {
    "duration": 31,
    "start_time": "2024-06-04T21:44:20.148Z"
   },
   {
    "duration": 44,
    "start_time": "2024-06-04T21:44:22.348Z"
   },
   {
    "duration": 20,
    "start_time": "2024-06-04T21:44:38.672Z"
   },
   {
    "duration": 20,
    "start_time": "2024-06-04T21:44:40.538Z"
   },
   {
    "duration": 6,
    "start_time": "2024-06-04T21:45:10.388Z"
   },
   {
    "duration": 12,
    "start_time": "2024-06-04T21:46:13.226Z"
   },
   {
    "duration": 9,
    "start_time": "2024-06-04T21:47:52.995Z"
   },
   {
    "duration": 5,
    "start_time": "2024-06-04T21:48:16.085Z"
   },
   {
    "duration": 323,
    "start_time": "2024-06-05T16:44:45.236Z"
   },
   {
    "duration": 5530,
    "start_time": "2024-06-05T16:44:53.466Z"
   },
   {
    "duration": 574,
    "start_time": "2024-06-05T16:44:59.001Z"
   },
   {
    "duration": 20,
    "start_time": "2024-06-05T16:44:59.578Z"
   },
   {
    "duration": 31,
    "start_time": "2024-06-05T16:44:59.601Z"
   },
   {
    "duration": 15,
    "start_time": "2024-06-05T16:44:59.637Z"
   },
   {
    "duration": 90,
    "start_time": "2024-06-05T16:44:59.656Z"
   },
   {
    "duration": 51,
    "start_time": "2024-06-05T16:44:59.749Z"
   },
   {
    "duration": 62,
    "start_time": "2024-06-05T16:44:59.822Z"
   },
   {
    "duration": 96,
    "start_time": "2024-06-05T16:44:59.887Z"
   },
   {
    "duration": 82,
    "start_time": "2024-06-05T16:44:59.986Z"
   },
   {
    "duration": 81,
    "start_time": "2024-06-05T16:45:00.071Z"
   },
   {
    "duration": 21,
    "start_time": "2024-06-05T16:45:00.155Z"
   },
   {
    "duration": 53,
    "start_time": "2024-06-05T16:45:00.180Z"
   },
   {
    "duration": 19,
    "start_time": "2024-06-05T16:45:00.239Z"
   },
   {
    "duration": 22,
    "start_time": "2024-06-05T16:45:00.261Z"
   },
   {
    "duration": 139,
    "start_time": "2024-06-05T16:45:00.286Z"
   },
   {
    "duration": 103,
    "start_time": "2024-06-05T16:45:00.428Z"
   },
   {
    "duration": 18,
    "start_time": "2024-06-05T16:45:00.534Z"
   },
   {
    "duration": 83,
    "start_time": "2024-06-05T16:45:00.555Z"
   },
   {
    "duration": 92,
    "start_time": "2024-06-05T16:45:00.641Z"
   },
   {
    "duration": 91,
    "start_time": "2024-06-05T16:45:00.736Z"
   },
   {
    "duration": 94,
    "start_time": "2024-06-05T16:45:00.830Z"
   },
   {
    "duration": 19,
    "start_time": "2024-06-05T16:45:00.929Z"
   },
   {
    "duration": 15,
    "start_time": "2024-06-05T16:45:00.952Z"
   },
   {
    "duration": 6,
    "start_time": "2024-06-05T16:45:00.972Z"
   },
   {
    "duration": 47,
    "start_time": "2024-06-05T16:45:00.982Z"
   },
   {
    "duration": 488,
    "start_time": "2024-06-05T17:00:36.646Z"
   },
   {
    "duration": 4,
    "start_time": "2024-06-05T17:00:45.462Z"
   },
   {
    "duration": 6,
    "start_time": "2024-06-05T17:00:54.210Z"
   },
   {
    "duration": 29,
    "start_time": "2024-06-05T17:14:49.094Z"
   },
   {
    "duration": 13,
    "start_time": "2024-06-05T17:15:25.360Z"
   },
   {
    "duration": 5,
    "start_time": "2024-06-05T17:16:46.603Z"
   },
   {
    "duration": 10,
    "start_time": "2024-06-05T17:16:49.446Z"
   },
   {
    "duration": 10,
    "start_time": "2024-06-05T17:17:17.564Z"
   },
   {
    "duration": 10,
    "start_time": "2024-06-05T17:17:32.803Z"
   },
   {
    "duration": 10,
    "start_time": "2024-06-05T17:19:20.354Z"
   },
   {
    "duration": 11,
    "start_time": "2024-06-05T17:19:24.846Z"
   },
   {
    "duration": 10,
    "start_time": "2024-06-05T17:19:47.937Z"
   },
   {
    "duration": 10,
    "start_time": "2024-06-05T17:20:03.499Z"
   },
   {
    "duration": 5269,
    "start_time": "2024-06-05T18:40:56.602Z"
   },
   {
    "duration": 506,
    "start_time": "2024-06-05T18:41:01.875Z"
   },
   {
    "duration": 31,
    "start_time": "2024-06-05T18:41:02.384Z"
   },
   {
    "duration": 17,
    "start_time": "2024-06-05T18:41:02.420Z"
   },
   {
    "duration": 16,
    "start_time": "2024-06-05T18:41:02.441Z"
   },
   {
    "duration": 85,
    "start_time": "2024-06-05T18:41:02.462Z"
   },
   {
    "duration": 62,
    "start_time": "2024-06-05T18:41:02.551Z"
   },
   {
    "duration": 41,
    "start_time": "2024-06-05T18:41:02.616Z"
   },
   {
    "duration": 84,
    "start_time": "2024-06-05T18:41:02.660Z"
   },
   {
    "duration": 69,
    "start_time": "2024-06-05T18:41:02.750Z"
   },
   {
    "duration": 62,
    "start_time": "2024-06-05T18:41:02.821Z"
   },
   {
    "duration": 41,
    "start_time": "2024-06-05T18:41:02.886Z"
   },
   {
    "duration": 17,
    "start_time": "2024-06-05T18:41:02.930Z"
   },
   {
    "duration": 18,
    "start_time": "2024-06-05T18:41:02.950Z"
   },
   {
    "duration": 58,
    "start_time": "2024-06-05T18:41:02.971Z"
   },
   {
    "duration": 84,
    "start_time": "2024-06-05T18:41:03.033Z"
   },
   {
    "duration": 93,
    "start_time": "2024-06-05T18:41:03.120Z"
   },
   {
    "duration": 16,
    "start_time": "2024-06-05T18:41:03.221Z"
   },
   {
    "duration": 77,
    "start_time": "2024-06-05T18:41:03.240Z"
   },
   {
    "duration": 24,
    "start_time": "2024-06-05T18:41:03.320Z"
   },
   {
    "duration": 28,
    "start_time": "2024-06-05T18:41:03.415Z"
   },
   {
    "duration": 17,
    "start_time": "2024-06-05T18:41:03.514Z"
   },
   {
    "duration": 14,
    "start_time": "2024-06-05T18:41:03.535Z"
   },
   {
    "duration": 14,
    "start_time": "2024-06-05T18:41:03.552Z"
   },
   {
    "duration": 45,
    "start_time": "2024-06-05T18:41:03.569Z"
   },
   {
    "duration": 8,
    "start_time": "2024-06-05T18:41:03.618Z"
   },
   {
    "duration": 8,
    "start_time": "2024-06-05T18:41:03.629Z"
   },
   {
    "duration": 0,
    "start_time": "2024-06-05T18:41:03.640Z"
   },
   {
    "duration": 0,
    "start_time": "2024-06-05T18:41:03.642Z"
   },
   {
    "duration": 0,
    "start_time": "2024-06-05T18:41:03.644Z"
   },
   {
    "duration": 6,
    "start_time": "2024-06-05T18:41:31.321Z"
   },
   {
    "duration": 4,
    "start_time": "2024-06-05T18:42:07.040Z"
   },
   {
    "duration": 4,
    "start_time": "2024-06-05T18:42:11.337Z"
   },
   {
    "duration": 5414,
    "start_time": "2024-06-05T21:50:31.676Z"
   },
   {
    "duration": 519,
    "start_time": "2024-06-05T21:50:37.094Z"
   },
   {
    "duration": 23,
    "start_time": "2024-06-05T21:50:37.616Z"
   },
   {
    "duration": 14,
    "start_time": "2024-06-05T21:50:37.643Z"
   },
   {
    "duration": 14,
    "start_time": "2024-06-05T21:50:37.661Z"
   },
   {
    "duration": 85,
    "start_time": "2024-06-05T21:50:37.680Z"
   },
   {
    "duration": 66,
    "start_time": "2024-06-05T21:50:37.768Z"
   },
   {
    "duration": 51,
    "start_time": "2024-06-05T21:50:37.837Z"
   },
   {
    "duration": 92,
    "start_time": "2024-06-05T21:50:37.892Z"
   },
   {
    "duration": 77,
    "start_time": "2024-06-05T21:50:37.990Z"
   },
   {
    "duration": 88,
    "start_time": "2024-06-05T21:50:38.073Z"
   },
   {
    "duration": 21,
    "start_time": "2024-06-05T21:50:38.164Z"
   },
   {
    "duration": 43,
    "start_time": "2024-06-05T21:50:38.188Z"
   },
   {
    "duration": 19,
    "start_time": "2024-06-05T21:50:38.235Z"
   },
   {
    "duration": 22,
    "start_time": "2024-06-05T21:50:38.258Z"
   },
   {
    "duration": 67,
    "start_time": "2024-06-05T21:50:38.286Z"
   },
   {
    "duration": 86,
    "start_time": "2024-06-05T21:50:38.357Z"
   },
   {
    "duration": 91,
    "start_time": "2024-06-05T21:50:38.445Z"
   },
   {
    "duration": 92,
    "start_time": "2024-06-05T21:50:38.538Z"
   },
   {
    "duration": 93,
    "start_time": "2024-06-05T21:50:38.632Z"
   },
   {
    "duration": 19,
    "start_time": "2024-06-05T21:50:38.728Z"
   },
   {
    "duration": 16,
    "start_time": "2024-06-05T21:50:38.825Z"
   },
   {
    "duration": 86,
    "start_time": "2024-06-05T21:50:38.844Z"
   },
   {
    "duration": 12,
    "start_time": "2024-06-05T21:50:38.934Z"
   },
   {
    "duration": 5,
    "start_time": "2024-06-05T21:50:38.949Z"
   },
   {
    "duration": 6,
    "start_time": "2024-06-05T21:50:38.957Z"
   },
   {
    "duration": 5,
    "start_time": "2024-06-05T21:50:38.966Z"
   },
   {
    "duration": 11,
    "start_time": "2024-06-05T21:50:39.026Z"
   },
   {
    "duration": 11,
    "start_time": "2024-06-05T21:50:39.041Z"
   },
   {
    "duration": 12,
    "start_time": "2024-06-05T21:50:39.055Z"
   },
   {
    "duration": 495,
    "start_time": "2024-06-06T00:47:18.784Z"
   },
   {
    "duration": 1615,
    "start_time": "2024-06-06T00:48:04.561Z"
   },
   {
    "duration": 482,
    "start_time": "2024-06-06T00:48:06.179Z"
   },
   {
    "duration": 21,
    "start_time": "2024-06-06T00:48:06.664Z"
   },
   {
    "duration": 13,
    "start_time": "2024-06-06T00:48:06.688Z"
   },
   {
    "duration": 13,
    "start_time": "2024-06-06T00:48:06.724Z"
   },
   {
    "duration": 43,
    "start_time": "2024-06-06T00:48:06.741Z"
   },
   {
    "duration": 68,
    "start_time": "2024-06-06T00:48:06.787Z"
   },
   {
    "duration": 40,
    "start_time": "2024-06-06T00:48:06.858Z"
   },
   {
    "duration": 59,
    "start_time": "2024-06-06T00:48:06.924Z"
   },
   {
    "duration": 77,
    "start_time": "2024-06-06T00:48:06.986Z"
   },
   {
    "duration": 80,
    "start_time": "2024-06-06T00:48:07.065Z"
   },
   {
    "duration": 22,
    "start_time": "2024-06-06T00:48:07.148Z"
   },
   {
    "duration": 50,
    "start_time": "2024-06-06T00:48:07.173Z"
   },
   {
    "duration": 24,
    "start_time": "2024-06-06T00:48:07.231Z"
   },
   {
    "duration": 20,
    "start_time": "2024-06-06T00:48:07.261Z"
   },
   {
    "duration": 44,
    "start_time": "2024-06-06T00:48:07.284Z"
   },
   {
    "duration": 99,
    "start_time": "2024-06-06T00:48:07.331Z"
   },
   {
    "duration": 90,
    "start_time": "2024-06-06T00:48:07.433Z"
   },
   {
    "duration": 18,
    "start_time": "2024-06-06T00:48:07.527Z"
   },
   {
    "duration": 23,
    "start_time": "2024-06-06T00:48:07.624Z"
   },
   {
    "duration": 74,
    "start_time": "2024-06-06T00:48:07.650Z"
   },
   {
    "duration": 14,
    "start_time": "2024-06-06T00:48:07.727Z"
   },
   {
    "duration": 88,
    "start_time": "2024-06-06T00:48:07.744Z"
   },
   {
    "duration": 460,
    "start_time": "2024-06-06T00:48:07.835Z"
   },
   {
    "duration": 0,
    "start_time": "2024-06-06T00:48:08.298Z"
   },
   {
    "duration": 0,
    "start_time": "2024-06-06T00:48:08.301Z"
   },
   {
    "duration": 0,
    "start_time": "2024-06-06T00:48:08.303Z"
   },
   {
    "duration": 0,
    "start_time": "2024-06-06T00:48:08.305Z"
   },
   {
    "duration": 0,
    "start_time": "2024-06-06T00:48:08.323Z"
   },
   {
    "duration": 1619,
    "start_time": "2024-06-06T00:48:42.693Z"
   },
   {
    "duration": 380,
    "start_time": "2024-06-06T00:48:44.316Z"
   },
   {
    "duration": 26,
    "start_time": "2024-06-06T00:48:44.699Z"
   },
   {
    "duration": 14,
    "start_time": "2024-06-06T00:48:44.730Z"
   },
   {
    "duration": 17,
    "start_time": "2024-06-06T00:48:44.747Z"
   },
   {
    "duration": 80,
    "start_time": "2024-06-06T00:48:44.768Z"
   },
   {
    "duration": 49,
    "start_time": "2024-06-06T00:48:44.851Z"
   },
   {
    "duration": 45,
    "start_time": "2024-06-06T00:48:44.926Z"
   },
   {
    "duration": 92,
    "start_time": "2024-06-06T00:48:44.974Z"
   },
   {
    "duration": 72,
    "start_time": "2024-06-06T00:48:45.072Z"
   },
   {
    "duration": 76,
    "start_time": "2024-06-06T00:48:45.147Z"
   },
   {
    "duration": 20,
    "start_time": "2024-06-06T00:48:45.225Z"
   },
   {
    "duration": 19,
    "start_time": "2024-06-06T00:48:45.249Z"
   },
   {
    "duration": 62,
    "start_time": "2024-06-06T00:48:45.270Z"
   },
   {
    "duration": 21,
    "start_time": "2024-06-06T00:48:45.336Z"
   },
   {
    "duration": 19,
    "start_time": "2024-06-06T00:48:45.360Z"
   },
   {
    "duration": 65,
    "start_time": "2024-06-06T00:48:45.381Z"
   },
   {
    "duration": 18,
    "start_time": "2024-06-06T00:48:45.525Z"
   },
   {
    "duration": 82,
    "start_time": "2024-06-06T00:48:45.547Z"
   },
   {
    "duration": 97,
    "start_time": "2024-06-06T00:48:45.632Z"
   },
   {
    "duration": 92,
    "start_time": "2024-06-06T00:48:45.738Z"
   },
   {
    "duration": 90,
    "start_time": "2024-06-06T00:48:45.836Z"
   },
   {
    "duration": 17,
    "start_time": "2024-06-06T00:48:45.930Z"
   },
   {
    "duration": 4,
    "start_time": "2024-06-06T00:48:45.949Z"
   },
   {
    "duration": 5,
    "start_time": "2024-06-06T00:48:45.957Z"
   },
   {
    "duration": 11,
    "start_time": "2024-06-06T00:48:45.965Z"
   },
   {
    "duration": 12,
    "start_time": "2024-06-06T00:48:46.027Z"
   },
   {
    "duration": 11,
    "start_time": "2024-06-06T00:48:46.047Z"
   },
   {
    "duration": 345,
    "start_time": "2024-06-06T00:49:39.938Z"
   },
   {
    "duration": 1739,
    "start_time": "2024-06-06T00:49:48.107Z"
   },
   {
    "duration": 532,
    "start_time": "2024-06-06T00:49:49.850Z"
   },
   {
    "duration": 18,
    "start_time": "2024-06-06T00:49:50.385Z"
   },
   {
    "duration": 29,
    "start_time": "2024-06-06T00:49:50.407Z"
   },
   {
    "duration": 13,
    "start_time": "2024-06-06T00:49:50.440Z"
   },
   {
    "duration": 76,
    "start_time": "2024-06-06T00:49:50.456Z"
   },
   {
    "duration": 42,
    "start_time": "2024-06-06T00:49:50.535Z"
   },
   {
    "duration": 69,
    "start_time": "2024-06-06T00:49:50.581Z"
   },
   {
    "duration": 73,
    "start_time": "2024-06-06T00:49:50.652Z"
   },
   {
    "duration": 60,
    "start_time": "2024-06-06T00:49:50.731Z"
   },
   {
    "duration": 86,
    "start_time": "2024-06-06T00:49:50.794Z"
   },
   {
    "duration": 20,
    "start_time": "2024-06-06T00:49:50.883Z"
   },
   {
    "duration": 21,
    "start_time": "2024-06-06T00:49:50.922Z"
   },
   {
    "duration": 17,
    "start_time": "2024-06-06T00:49:50.946Z"
   },
   {
    "duration": 61,
    "start_time": "2024-06-06T00:49:50.966Z"
   },
   {
    "duration": 21,
    "start_time": "2024-06-06T00:49:51.030Z"
   },
   {
    "duration": 83,
    "start_time": "2024-06-06T00:49:51.053Z"
   },
   {
    "duration": 93,
    "start_time": "2024-06-06T00:49:51.142Z"
   },
   {
    "duration": 86,
    "start_time": "2024-06-06T00:49:51.237Z"
   },
   {
    "duration": 17,
    "start_time": "2024-06-06T00:49:51.327Z"
   },
   {
    "duration": 83,
    "start_time": "2024-06-06T00:49:51.348Z"
   },
   {
    "duration": 89,
    "start_time": "2024-06-06T00:49:51.435Z"
   },
   {
    "duration": 15,
    "start_time": "2024-06-06T00:49:51.527Z"
   },
   {
    "duration": 4,
    "start_time": "2024-06-06T00:49:51.545Z"
   },
   {
    "duration": 5,
    "start_time": "2024-06-06T00:49:51.553Z"
   },
   {
    "duration": 11,
    "start_time": "2024-06-06T00:49:51.561Z"
   },
   {
    "duration": 55,
    "start_time": "2024-06-06T00:49:51.575Z"
   },
   {
    "duration": 10,
    "start_time": "2024-06-06T00:49:51.637Z"
   },
   {
    "duration": 11,
    "start_time": "2024-06-06T00:49:51.649Z"
   },
   {
    "duration": 327,
    "start_time": "2024-06-06T00:56:12.617Z"
   },
   {
    "duration": 25,
    "start_time": "2024-06-06T00:56:21.796Z"
   },
   {
    "duration": 1648,
    "start_time": "2024-06-06T00:56:30.336Z"
   },
   {
    "duration": 592,
    "start_time": "2024-06-06T00:56:31.988Z"
   },
   {
    "duration": 22,
    "start_time": "2024-06-06T00:56:32.583Z"
   },
   {
    "duration": 19,
    "start_time": "2024-06-06T00:56:32.623Z"
   },
   {
    "duration": 15,
    "start_time": "2024-06-06T00:56:32.646Z"
   },
   {
    "duration": 78,
    "start_time": "2024-06-06T00:56:32.665Z"
   },
   {
    "duration": 42,
    "start_time": "2024-06-06T00:56:32.746Z"
   },
   {
    "duration": 66,
    "start_time": "2024-06-06T00:56:32.792Z"
   },
   {
    "duration": 91,
    "start_time": "2024-06-06T00:56:32.862Z"
   },
   {
    "duration": 190,
    "start_time": "2024-06-06T00:56:32.960Z"
   },
   {
    "duration": 93,
    "start_time": "2024-06-06T00:56:33.153Z"
   },
   {
    "duration": 25,
    "start_time": "2024-06-06T00:56:33.249Z"
   },
   {
    "duration": 23,
    "start_time": "2024-06-06T00:56:33.278Z"
   },
   {
    "duration": 41,
    "start_time": "2024-06-06T00:56:33.304Z"
   },
   {
    "duration": 29,
    "start_time": "2024-06-06T00:56:33.349Z"
   },
   {
    "duration": 58,
    "start_time": "2024-06-06T00:56:33.386Z"
   },
   {
    "duration": 88,
    "start_time": "2024-06-06T00:56:33.446Z"
   },
   {
    "duration": 89,
    "start_time": "2024-06-06T00:56:33.536Z"
   },
   {
    "duration": 21,
    "start_time": "2024-06-06T00:56:33.628Z"
   },
   {
    "duration": 85,
    "start_time": "2024-06-06T00:56:33.652Z"
   },
   {
    "duration": 86,
    "start_time": "2024-06-06T00:56:33.740Z"
   },
   {
    "duration": 20,
    "start_time": "2024-06-06T00:56:33.830Z"
   },
   {
    "duration": 15,
    "start_time": "2024-06-06T00:56:33.925Z"
   },
   {
    "duration": 4,
    "start_time": "2024-06-06T00:56:33.943Z"
   },
   {
    "duration": 6,
    "start_time": "2024-06-06T00:56:33.950Z"
   },
   {
    "duration": 11,
    "start_time": "2024-06-06T00:56:33.959Z"
   },
   {
    "duration": 55,
    "start_time": "2024-06-06T00:56:33.974Z"
   },
   {
    "duration": 9,
    "start_time": "2024-06-06T00:56:34.036Z"
   },
   {
    "duration": 11,
    "start_time": "2024-06-06T00:56:34.050Z"
   },
   {
    "duration": 2538,
    "start_time": "2024-06-06T00:56:34.063Z"
   },
   {
    "duration": 335,
    "start_time": "2024-06-06T18:24:19.103Z"
   },
   {
    "duration": 5569,
    "start_time": "2024-06-06T18:24:28.196Z"
   },
   {
    "duration": 482,
    "start_time": "2024-06-06T18:24:33.769Z"
   },
   {
    "duration": 18,
    "start_time": "2024-06-06T18:24:34.254Z"
   },
   {
    "duration": 14,
    "start_time": "2024-06-06T18:24:34.290Z"
   },
   {
    "duration": 14,
    "start_time": "2024-06-06T18:24:34.307Z"
   },
   {
    "duration": 76,
    "start_time": "2024-06-06T18:24:34.323Z"
   },
   {
    "duration": 40,
    "start_time": "2024-06-06T18:24:34.402Z"
   },
   {
    "duration": 70,
    "start_time": "2024-06-06T18:24:34.445Z"
   },
   {
    "duration": 72,
    "start_time": "2024-06-06T18:24:34.518Z"
   },
   {
    "duration": 57,
    "start_time": "2024-06-06T18:24:34.596Z"
   },
   {
    "duration": 97,
    "start_time": "2024-06-06T18:24:34.656Z"
   },
   {
    "duration": 33,
    "start_time": "2024-06-06T18:24:34.760Z"
   },
   {
    "duration": 25,
    "start_time": "2024-06-06T18:24:34.796Z"
   },
   {
    "duration": 24,
    "start_time": "2024-06-06T18:24:34.824Z"
   },
   {
    "duration": 47,
    "start_time": "2024-06-06T18:24:34.852Z"
   },
   {
    "duration": 24,
    "start_time": "2024-06-06T18:24:34.902Z"
   },
   {
    "duration": 99,
    "start_time": "2024-06-06T18:24:34.991Z"
   },
   {
    "duration": 16,
    "start_time": "2024-06-06T18:24:35.093Z"
   },
   {
    "duration": 83,
    "start_time": "2024-06-06T18:24:35.112Z"
   },
   {
    "duration": 17,
    "start_time": "2024-06-06T18:24:35.197Z"
   },
   {
    "duration": 15,
    "start_time": "2024-06-06T18:24:35.292Z"
   },
   {
    "duration": 86,
    "start_time": "2024-06-06T18:24:35.310Z"
   },
   {
    "duration": 15,
    "start_time": "2024-06-06T18:24:35.398Z"
   },
   {
    "duration": 3,
    "start_time": "2024-06-06T18:24:35.416Z"
   },
   {
    "duration": 5,
    "start_time": "2024-06-06T18:24:35.423Z"
   },
   {
    "duration": 9,
    "start_time": "2024-06-06T18:24:35.431Z"
   },
   {
    "duration": 54,
    "start_time": "2024-06-06T18:24:35.443Z"
   },
   {
    "duration": 9,
    "start_time": "2024-06-06T18:24:35.503Z"
   },
   {
    "duration": 10,
    "start_time": "2024-06-06T18:24:35.515Z"
   },
   {
    "duration": 2545,
    "start_time": "2024-06-06T18:24:35.528Z"
   },
   {
    "duration": 79,
    "start_time": "2024-06-06T19:18:01.954Z"
   },
   {
    "duration": 81,
    "start_time": "2024-06-06T19:19:33.165Z"
   },
   {
    "duration": 10941,
    "start_time": "2024-06-06T19:21:36.473Z"
   },
   {
    "duration": 5171,
    "start_time": "2024-06-08T22:10:27.219Z"
   },
   {
    "duration": 532,
    "start_time": "2024-06-08T22:10:32.401Z"
   },
   {
    "duration": 17,
    "start_time": "2024-06-08T22:10:32.937Z"
   },
   {
    "duration": 15,
    "start_time": "2024-06-08T22:10:32.958Z"
   },
   {
    "duration": 36,
    "start_time": "2024-06-08T22:10:32.976Z"
   },
   {
    "duration": 43,
    "start_time": "2024-06-08T22:10:33.015Z"
   },
   {
    "duration": 73,
    "start_time": "2024-06-08T22:10:33.061Z"
   },
   {
    "duration": 42,
    "start_time": "2024-06-08T22:10:33.137Z"
   },
   {
    "duration": 59,
    "start_time": "2024-06-08T22:10:33.202Z"
   },
   {
    "duration": 70,
    "start_time": "2024-06-08T22:10:33.267Z"
   },
   {
    "duration": 72,
    "start_time": "2024-06-08T22:10:33.340Z"
   },
   {
    "duration": 20,
    "start_time": "2024-06-08T22:10:33.415Z"
   },
   {
    "duration": 17,
    "start_time": "2024-06-08T22:10:33.438Z"
   },
   {
    "duration": 49,
    "start_time": "2024-06-08T22:10:33.458Z"
   },
   {
    "duration": 19,
    "start_time": "2024-06-08T22:10:33.510Z"
   },
   {
    "duration": 76,
    "start_time": "2024-06-08T22:10:33.531Z"
   },
   {
    "duration": 97,
    "start_time": "2024-06-08T22:10:33.610Z"
   },
   {
    "duration": 91,
    "start_time": "2024-06-08T22:10:33.711Z"
   },
   {
    "duration": 18,
    "start_time": "2024-06-08T22:10:33.806Z"
   },
   {
    "duration": 87,
    "start_time": "2024-06-08T22:10:33.827Z"
   },
   {
    "duration": 15,
    "start_time": "2024-06-08T22:10:33.917Z"
   },
   {
    "duration": 14,
    "start_time": "2024-06-08T22:10:34.003Z"
   },
   {
    "duration": 86,
    "start_time": "2024-06-08T22:10:34.020Z"
   },
   {
    "duration": 4,
    "start_time": "2024-06-08T22:10:34.108Z"
   },
   {
    "duration": 5,
    "start_time": "2024-06-08T22:10:34.115Z"
   },
   {
    "duration": 10,
    "start_time": "2024-06-08T22:10:34.123Z"
   },
   {
    "duration": 10,
    "start_time": "2024-06-08T22:10:34.136Z"
   },
   {
    "duration": 55,
    "start_time": "2024-06-08T22:10:34.153Z"
   },
   {
    "duration": 10807,
    "start_time": "2024-06-08T22:10:34.211Z"
   },
   {
    "duration": 4,
    "start_time": "2024-06-08T22:17:20.148Z"
   },
   {
    "duration": 5,
    "start_time": "2024-06-08T22:17:46.862Z"
   },
   {
    "duration": 1415,
    "start_time": "2024-06-08T22:18:20.706Z"
   },
   {
    "duration": 7,
    "start_time": "2024-06-08T22:23:37.915Z"
   },
   {
    "duration": 37,
    "start_time": "2024-06-08T22:28:51.172Z"
   },
   {
    "duration": 1628,
    "start_time": "2024-06-08T22:48:57.379Z"
   },
   {
    "duration": 476,
    "start_time": "2024-06-08T22:48:59.011Z"
   },
   {
    "duration": 26,
    "start_time": "2024-06-08T22:48:59.490Z"
   },
   {
    "duration": 13,
    "start_time": "2024-06-08T22:48:59.520Z"
   },
   {
    "duration": 14,
    "start_time": "2024-06-08T22:48:59.538Z"
   },
   {
    "duration": 75,
    "start_time": "2024-06-08T22:48:59.558Z"
   },
   {
    "duration": 64,
    "start_time": "2024-06-08T22:48:59.637Z"
   },
   {
    "duration": 44,
    "start_time": "2024-06-08T22:48:59.704Z"
   },
   {
    "duration": 324,
    "start_time": "2024-06-08T22:54:55.258Z"
   },
   {
    "duration": 1648,
    "start_time": "2024-06-08T22:55:06.758Z"
   },
   {
    "duration": 483,
    "start_time": "2024-06-08T22:55:08.409Z"
   },
   {
    "duration": 18,
    "start_time": "2024-06-08T22:55:08.894Z"
   },
   {
    "duration": 13,
    "start_time": "2024-06-08T22:55:08.917Z"
   },
   {
    "duration": 13,
    "start_time": "2024-06-08T22:55:08.934Z"
   },
   {
    "duration": 86,
    "start_time": "2024-06-08T22:55:08.951Z"
   },
   {
    "duration": 66,
    "start_time": "2024-06-08T22:55:09.040Z"
   },
   {
    "duration": 50,
    "start_time": "2024-06-08T22:55:09.110Z"
   },
   {
    "duration": 1628,
    "start_time": "2024-06-08T23:02:53.295Z"
   },
   {
    "duration": 512,
    "start_time": "2024-06-08T23:02:54.926Z"
   },
   {
    "duration": 18,
    "start_time": "2024-06-08T23:02:55.441Z"
   },
   {
    "duration": 13,
    "start_time": "2024-06-08T23:02:55.464Z"
   },
   {
    "duration": 13,
    "start_time": "2024-06-08T23:02:55.503Z"
   },
   {
    "duration": 44,
    "start_time": "2024-06-08T23:02:55.519Z"
   },
   {
    "duration": 68,
    "start_time": "2024-06-08T23:02:55.566Z"
   },
   {
    "duration": 43,
    "start_time": "2024-06-08T23:02:55.637Z"
   },
   {
    "duration": 62,
    "start_time": "2024-06-08T23:02:55.702Z"
   },
   {
    "duration": 75,
    "start_time": "2024-06-08T23:02:55.771Z"
   },
   {
    "duration": 87,
    "start_time": "2024-06-08T23:02:55.850Z"
   },
   {
    "duration": 26,
    "start_time": "2024-06-08T23:02:55.940Z"
   },
   {
    "duration": 42,
    "start_time": "2024-06-08T23:02:55.970Z"
   },
   {
    "duration": 18,
    "start_time": "2024-06-08T23:02:56.015Z"
   },
   {
    "duration": 20,
    "start_time": "2024-06-08T23:02:56.036Z"
   },
   {
    "duration": 57,
    "start_time": "2024-06-08T23:02:56.059Z"
   },
   {
    "duration": 88,
    "start_time": "2024-06-08T23:02:56.120Z"
   },
   {
    "duration": 94,
    "start_time": "2024-06-08T23:02:56.211Z"
   },
   {
    "duration": 94,
    "start_time": "2024-06-08T23:02:56.308Z"
   },
   {
    "duration": 25,
    "start_time": "2024-06-08T23:02:56.406Z"
   },
   {
    "duration": 82,
    "start_time": "2024-06-08T23:02:56.435Z"
   },
   {
    "duration": 89,
    "start_time": "2024-06-08T23:02:56.523Z"
   },
   {
    "duration": 15,
    "start_time": "2024-06-08T23:02:56.616Z"
   },
   {
    "duration": 4,
    "start_time": "2024-06-08T23:02:56.633Z"
   },
   {
    "duration": 5,
    "start_time": "2024-06-08T23:02:56.640Z"
   },
   {
    "duration": 54,
    "start_time": "2024-06-08T23:02:56.648Z"
   },
   {
    "duration": 11,
    "start_time": "2024-06-08T23:02:56.705Z"
   },
   {
    "duration": 8,
    "start_time": "2024-06-08T23:02:56.723Z"
   },
   {
    "duration": 11105,
    "start_time": "2024-06-08T23:02:56.734Z"
   },
   {
    "duration": 11064,
    "start_time": "2024-06-08T23:30:32.641Z"
   }
  ],
  "kernelspec": {
   "display_name": "Python 3 (ipykernel)",
   "language": "python",
   "name": "python3"
  },
  "language_info": {
   "codemirror_mode": {
    "name": "ipython",
    "version": 3
   },
   "file_extension": ".py",
   "mimetype": "text/x-python",
   "name": "python",
   "nbconvert_exporter": "python",
   "pygments_lexer": "ipython3",
   "version": "3.9.19"
  },
  "toc": {
   "base_numbering": 1,
   "nav_menu": {},
   "number_sections": true,
   "sideBar": true,
   "skip_h1_title": true,
   "title_cell": "Table of Contents",
   "title_sidebar": "Contents",
   "toc_cell": false,
   "toc_position": {},
   "toc_section_display": true,
   "toc_window_display": false
  }
 },
 "nbformat": 4,
 "nbformat_minor": 2
}
